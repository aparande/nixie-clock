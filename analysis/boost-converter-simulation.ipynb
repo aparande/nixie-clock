{
 "cells": [
  {
   "cell_type": "code",
   "execution_count": 2,
   "id": "b945ed7a",
   "metadata": {},
   "outputs": [],
   "source": [
    "from scipy import integrate\n",
    "import numpy as np\n",
    "import matplotlib.pyplot as plt\n",
    "import warnings\n",
    "from IPython.display import display\n",
    "from ipywidgets import interactive\n",
    "import ipywidgets as widgets"
   ]
  },
  {
   "cell_type": "code",
   "execution_count": 27,
   "id": "b572bd5b",
   "metadata": {},
   "outputs": [],
   "source": [
    "class BoostConverter:\n",
    "    def __init__(self, V_i, L, R_L, C, R, D, T):\n",
    "        self.V_i = V_i\n",
    "        self.L = L\n",
    "        self.R_L = R_L\n",
    "        self.C = C\n",
    "        self.R = R\n",
    "        self.D = D\n",
    "        self.T = T\n",
    "                \n",
    "    def _switched_dynamics(self, t, y):\n",
    "        def switch_closed(t, y):\n",
    "            A = np.array([[- 1 / (self.R * self.C), 0],\n",
    "                         [0, - self.R_L / self.L]])\n",
    "            B = np.array([0, 1 / self.L])\n",
    "            return A @ y + B * self.V_i\n",
    "        \n",
    "        def switch_open(t, y):\n",
    "            A = np.array([[-1 / (self.R * self.C), 1 / self.C],\n",
    "                         [-1 / self.L, - self.R_L / self.L]])\n",
    "            B = np.array([0, 1 / self.L])\n",
    "            return A @ y + B * self.V_i\n",
    "        \n",
    "        if (t - (t // self.T) * self.T) > self.D * self.T:\n",
    "            return switch_open(t, y)\n",
    "        else:\n",
    "            return switch_closed(t, y)\n",
    "        \n",
    "    def _averaged_dynamics(self, t, y):\n",
    "        A_closed = np.array([[- 1 / (self.R * self.C), 0],\n",
    "                            [0, - self.R_L / self.L]])\n",
    "        B_closed = np.array([0, 1 / self.L])\n",
    "        \n",
    "        A_open = np.array([[-1 / (self.R * self.C), 1 / self.C],\n",
    "                         [-1 / self.L, - self.R_L / self.L]])\n",
    "        B_open = np.array([0, 1 / self.L])\n",
    "        \n",
    "        A_avg = self.D * A_closed + (1 - self.D) * A_open\n",
    "        B_avg = self.D * B_closed + (1 - self.D) * B_open\n",
    "        \n",
    "        return A_avg @ y + B_avg * self.V_i\n",
    "    \n",
    "    @property\n",
    "    def w_n(self):\n",
    "        return np.sqrt(self.R_L / (self.R * self.L * self.C) + ((1 - self.D) ** 2) / (self.L * self.C))\n",
    "\n",
    "    @property\n",
    "    def damping_ratio(self):\n",
    "        return 0.5 * (self.R_L / self.L + 1 / (self.R * self.C)) / self.w_n\n",
    "    \n",
    "    @property\n",
    "    def w_d(self):\n",
    "        if self.damping_ratio >= 1:\n",
    "            warnings.warn(\"System is not under-damped, so w_d is meaningless\")\n",
    "        return self.w_n * np.sqrt(1 - self.damping_ratio ** 2)\n",
    "    \n",
    "    @property\n",
    "    def time_to_peak(self):\n",
    "        return np.pi / self.w_d\n",
    "    \n",
    "    @property\n",
    "    def pct_overshoot(self):\n",
    "        return np.exp(- np.pi * self.w_n * self.damping_ratio / self.w_d)\n",
    "    \n",
    "    @property\n",
    "    def settling_time(self):\n",
    "        return -1 / (self.damping_ratio * self.w_n) * np.log(0.02 * np.sqrt(1 - self.damping_ratio ** 2))\n",
    "        \n",
    "    def simulate_averaged_dynamics(self, time_len):\n",
    "        sol = integrate.solve_ivp(self._averaged_dynamics, (0, time_len), [0, 0], max_step=0.01 * time_len)\n",
    "        if not sol.success:\n",
    "            print(f\"Failed to integrate averaged dynamics: {sol.message}\")\n",
    "            return\n",
    "\n",
    "        return sol.t, sol.y\n",
    "    \n",
    "    def simulate_switching_dynamics(self, time_len):\n",
    "        sol = integrate.solve_ivp(self._switched_dynamics, (0, time_len), [0, 0], max_step=0.1 * self.T)\n",
    "        if not sol.success:\n",
    "            print(f\"Failed to integrate switching dynamics: {sol.message}\")\n",
    "            return\n",
    "\n",
    "        return sol.t, sol.y\n",
    "    \n",
    "    def solve_ripples(self):\n",
    "        \"\"\"\n",
    "        V_i D = V_o(DT) (1-D) + R_L (1-D) I_L(DT) + R_L D I_L(0)\n",
    "        -D = (1-D) V_o(DT) - R (1-D) I_L(DT)\n",
    "        (R_L / L * DT - 1)I_L(0) + I_L(DT) = V_i/L * DT\n",
    "        DT / RC = V_o(0) - V_o(DT)\n",
    "        \"\"\"\n",
    "        \n",
    "        A = np.array([[0, 1 - self.D, self.R_L * self.D, self.R_L * (1 - self.D)],\n",
    "                      [0, 1 - self.D, 0, -self.R * (1 - self.D)],\n",
    "                      [0, 0, self.R_L / self.L * self.D * self.T - 1, 1],\n",
    "                      [1, -1, 0, 0]])\n",
    "        b = np.array([self.D * self.V_i, \n",
    "                      -self.D, \n",
    "                      self.V_i / self.L * self.D * self.T,\n",
    "                      self.D * self.T / (self.R * self.C)\n",
    "                     ])\n",
    "        \n",
    "        return (np.linalg.inv(A) @ b)\n",
    "    \n",
    "    @property\n",
    "    def dcm_gain(self):\n",
    "        K = 2 * self.L / (self.R * self.T)\n",
    "        return (1 + np.sqrt(1 + 4 * (self.D ** 2) / K)) / 2"
   ]
  },
  {
   "cell_type": "code",
   "execution_count": 4,
   "id": "a34c00f0",
   "metadata": {},
   "outputs": [],
   "source": [
    "def plot_simulation(fig, V_i, L, R_L, C, R, D, T, t_len):\n",
    "    fig.clf()\n",
    "    \n",
    "    circuit = BoostConverter(V_i, L, R_L, C, R, D, T)\n",
    "    t, y = circuit.simulate_averaged_dynamics(t_len)\n",
    "    \n",
    "    plt.subplot(1, 2, 1)\n",
    "    plt.plot(t, y[0])\n",
    "    \n",
    "    plt.legend(['$V_{o, avg}$'])\n",
    "    \n",
    "    plt.axhline(0.98 / (1 - D) * V_i, linestyle='dashed', color='gray')\n",
    "    plt.axhline(1.02 / (1 - D) * V_i, linestyle='dashed', color='gray')\n",
    "    \n",
    "    if circuit.damping_ratio < 1:\n",
    "        plt.axvline(circuit.time_to_peak, linestyle='dashed', color='black')\n",
    "        plt.text(circuit.time_to_peak - 0.05,0,'$T_p$')\n",
    "        \n",
    "        plt.axvline(circuit.settling_time, linestyle='dashed', color='black')\n",
    "        plt.text(circuit.settling_time - 0.05,0,'$T_s$')\n",
    "        \n",
    "        plt.axhline((1 + circuit.pct_overshoot) / (1 - D) * V_i, linestyle='dashed', color='black')\n",
    "        plt.text(0, (1 + circuit.pct_overshoot) / (1 - D) * V_i + 0.1,'$V_{o,max}$')\n",
    "        \n",
    "    plt.subplot(1, 2, 2)\n",
    "    plt.plot(t, y[1])\n",
    "    plt.legend(['$I_{L, avg}$'])\n",
    "    \n",
    "    plt.draw()"
   ]
  },
  {
   "cell_type": "markdown",
   "id": "50da6f42",
   "metadata": {},
   "source": [
    "# High Voltage\n",
    "\n",
    "$V_o = 200 \\ V$, $I_o = 2.5\\  mA, V_i = 5 \\ V$"
   ]
  },
  {
   "cell_type": "code",
   "execution_count": null,
   "id": "a45a8b85",
   "metadata": {},
   "outputs": [],
   "source": [
    "fig = plt.figure(figsize=(15, 7))\n",
    "plot_simulation(fig, 5, 18e-6, 60e-3, 100e-6, 80e3, 1 - 1 / 40, 1e-4, 5)"
   ]
  },
  {
   "cell_type": "markdown",
   "id": "c35319b5",
   "metadata": {},
   "source": [
    "# Low voltage"
   ]
  },
  {
   "cell_type": "code",
   "execution_count": 39,
   "id": "f3f5b4dc",
   "metadata": {},
   "outputs": [],
   "source": [
    "V_i = 3.3\n",
    "L = 54e-6\n",
    "R_L = 180e-3\n",
    "C = 100e-6\n",
    "R = 10e3\n",
    "D = 0.5\n",
    "T = 100e-6\n",
    "\n",
    "circuit = BoostConverter(V_i, L, R_L, C, R, D, T)"
   ]
  },
  {
   "cell_type": "code",
   "execution_count": 40,
   "id": "a7b2b4e6",
   "metadata": {},
   "outputs": [
    {
     "data": {
      "text/plain": [
       "array([ 3.95985359e+00,  3.95980359e+00, -3.66607149e+00,  4.95980359e-04])"
      ]
     },
     "execution_count": 40,
     "metadata": {},
     "output_type": "execute_result"
    }
   ],
   "source": [
    "circuit.solve_ripples()"
   ]
  },
  {
   "cell_type": "code",
   "execution_count": 41,
   "id": "72607257",
   "metadata": {},
   "outputs": [
    {
     "data": {
      "text/plain": [
       "48.6151204385359"
      ]
     },
     "execution_count": 41,
     "metadata": {},
     "output_type": "execute_result"
    }
   ],
   "source": [
    "circuit.dcm_gain"
   ]
  },
  {
   "cell_type": "code",
   "execution_count": null,
   "id": "5e948213",
   "metadata": {},
   "outputs": [],
   "source": []
  }
 ],
 "metadata": {
  "kernelspec": {
   "display_name": "Python 3 (ipykernel)",
   "language": "python",
   "name": "python3"
  },
  "language_info": {
   "codemirror_mode": {
    "name": "ipython",
    "version": 3
   },
   "file_extension": ".py",
   "mimetype": "text/x-python",
   "name": "python",
   "nbconvert_exporter": "python",
   "pygments_lexer": "ipython3",
   "version": "3.11.3"
  }
 },
 "nbformat": 4,
 "nbformat_minor": 5
}
